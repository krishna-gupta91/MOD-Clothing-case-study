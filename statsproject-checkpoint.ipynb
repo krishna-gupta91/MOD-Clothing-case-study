{
 "cells": [
  {
   "cell_type": "markdown",
   "id": "aed8ad98",
   "metadata": {},
   "source": [
    "Part A"
   ]
  },
  {
   "cell_type": "markdown",
   "id": "c0c0e3f2",
   "metadata": {},
   "source": [
    "The following data represents the price in dollars for branded shirts in a website\n",
    "NuCloth\n",
    "23 30 20 27 44 26 35 20 29 29\n",
    "25 15 18 27 19 22 12 26 34 15\n",
    "27 35 26 43 35 14 24 12 23 31\n",
    "40 35 38 57 22 42 24 21 27 33"
   ]
  },
  {
   "cell_type": "markdown",
   "id": "3c086b66",
   "metadata": {},
   "source": [
    "Q-1) Compute the mean, median and the mode of the data"
   ]
  },
  {
   "cell_type": "code",
   "execution_count": 8,
   "id": "21014afc",
   "metadata": {},
   "outputs": [
    {
     "name": "stdout",
     "output_type": "stream",
     "text": [
      "Mean:  27.625\n",
      "Median:  26.5\n",
      "Mode:  27\n"
     ]
    }
   ],
   "source": [
    "import numpy as np\n",
    "import statistics as stats\n",
    "#create numpy array of given data\n",
    "data = [23, 30, 20, 27, 44, 26, 35, 20, 29, 29,\n",
    "                 25, 15, 18, 27, 19, 22, 12, 26, 34, 15,\n",
    "                 27, 35, 26, 43, 35, 14, 24, 12, 23, 31,\n",
    "                 40, 35, 38, 57, 22, 42, 24, 21, 27, 33]\n",
    "#calculate mean,mode,median\n",
    "mean = np.mean(data)\n",
    "median = np.median(data)\n",
    "mode = stats.mode(data)\n",
    "#print result\n",
    "print(\"Mean: \", mean)\n",
    "print(\"Median: \", median)\n",
    "print(\"Mode: \", mode)\n"
   ]
  },
  {
   "cell_type": "markdown",
   "id": "edfd0823",
   "metadata": {},
   "source": [
    "Q-2) Compute the range , variance and standard deviation of the data "
   ]
  },
  {
   "cell_type": "code",
   "execution_count": 9,
   "id": "4ba60464",
   "metadata": {},
   "outputs": [
    {
     "name": "stdout",
     "output_type": "stream",
     "text": [
      "Range: 45\n",
      "Variance: 92.6\n",
      "Standard deviation: 9.62\n"
     ]
    }
   ],
   "source": [
    "# Range\n",
    "range_data = np.max(data) - np.min(data)\n",
    "print(\"Range:\", range_data)\n",
    "\n",
    "# Variance\n",
    "variance = np.var(data, ddof=1)\n",
    "print(\"Variance:\",round(variance,2))\n",
    "\n",
    "# Standard deviation\n",
    "std_dev = np.std(data, ddof=1)\n",
    "print(\"Standard deviation:\", round(std_dev,2))"
   ]
  },
  {
   "cell_type": "markdown",
   "id": "24af5108",
   "metadata": {},
   "source": [
    "Q-3) Find the mean deviation for the data ."
   ]
  },
  {
   "cell_type": "code",
   "execution_count": 9,
   "id": "d664bd79",
   "metadata": {},
   "outputs": [
    {
     "name": "stdout",
     "output_type": "stream",
     "text": [
      "Mean deviation: 7.4\n"
     ]
    }
   ],
   "source": [
    "#substract each mean from data\n",
    "deviations = [abs(x - mean) for x in data]\n",
    "#find mean value of given dataset\n",
    "mean_deviation = np.mean(deviations)\n",
    "print(\"Mean deviation:\", mean_deviation)"
   ]
  },
  {
   "cell_type": "markdown",
   "id": "2d8133fd",
   "metadata": {},
   "source": [
    "Q-4) Calculate the Pearson coefficient of skewness and comment on the \n",
    "skewness of the data\n",
    "[A measure to determine the skewness of a distribution is called the Pearson \n",
    "coefficient of skewness]"
   ]
  },
  {
   "cell_type": "code",
   "execution_count": 11,
   "id": "070010ca",
   "metadata": {},
   "outputs": [
    {
     "name": "stdout",
     "output_type": "stream",
     "text": [
      "Pearson coefficient of skewness: 0.35\n"
     ]
    }
   ],
   "source": [
    "pearson_skewness = 3 * (mean - median) / std_dev\n",
    "print(\"Pearson coefficient of skewness:\", round(pearson_skewness,2))"
   ]
  },
  {
   "cell_type": "markdown",
   "id": "cba1aa90",
   "metadata": {},
   "source": [
    "Comment : The Pearson coefficient of skewness for the data is positive we can say the distribution is \n",
    "positively skewed"
   ]
  },
  {
   "cell_type": "markdown",
   "id": "e05b0ae7",
   "metadata": {},
   "source": [
    "Q-5) Count the number of data values that fall within two standard deviations of \n",
    "the mean. Compare this with the answer from Chebyshev’s Theorem."
   ]
  },
  {
   "cell_type": "code",
   "execution_count": 12,
   "id": "674070ef",
   "metadata": {},
   "outputs": [
    {
     "name": "stdout",
     "output_type": "stream",
     "text": [
      "Number of values within 2 standard deviations: 39\n"
     ]
    }
   ],
   "source": [
    "# Calculate upper and lower limits of 2 standard deviations\n",
    "upper_limit = mean + 2*std_dev\n",
    "lower_limit = mean - 2*std_dev\n",
    "\n",
    "# Count the number of values within 2 standard deviations\n",
    "within_two_std = len([x for x in data if x >= lower_limit and x <= upper_limit])\n",
    "print(\"Number of values within 2 standard deviations:\", within_two_std)"
   ]
  },
  {
   "cell_type": "markdown",
   "id": "0dd39571",
   "metadata": {},
   "source": [
    "Comment :Since we found that 39 out of 40 data values lie within two standard deviations of the mean, \n",
    "         which is more than 75% of the data, we can conclude that the data set satisfies Chebyshev's theorem."
   ]
  },
  {
   "cell_type": "markdown",
   "id": "1b9bebb1",
   "metadata": {},
   "source": [
    "Q-6) Find the three quartiles and the interquartile range (IQR)."
   ]
  },
  {
   "cell_type": "code",
   "execution_count": 13,
   "id": "e67caed7",
   "metadata": {},
   "outputs": [
    {
     "name": "stdout",
     "output_type": "stream",
     "text": [
      "First quartile (Q1): 21.75\n",
      "Second quartile (Q2, median): 26.5\n",
      "Third quartile (Q3): 34.25\n",
      "Interquartile range (IQR): 12.5\n"
     ]
    }
   ],
   "source": [
    "# Calculate quartiles and IQR\n",
    "q1 = np.percentile(data, 25)\n",
    "q2 = np.percentile(data, 50)\n",
    "q3 = np.percentile(data, 75)\n",
    "#range(ior)\n",
    "iqr = q3 - q1\n",
    "#print result\n",
    "print(\"First quartile (Q1):\", q1)\n",
    "print(\"Second quartile (Q2, median):\", q2)\n",
    "print(\"Third quartile (Q3):\", q3)\n",
    "print(\"Interquartile range (IQR):\", iqr)"
   ]
  },
  {
   "cell_type": "markdown",
   "id": "f78748c8",
   "metadata": {},
   "source": [
    "Q-7) Are there any outliers in the data set ?  "
   ]
  },
  {
   "cell_type": "code",
   "execution_count": 14,
   "id": "714451d8",
   "metadata": {},
   "outputs": [
    {
     "name": "stdout",
     "output_type": "stream",
     "text": [
      "Outliers: [57]\n"
     ]
    }
   ],
   "source": [
    "#calculate upper and lower limit for outliers\n",
    "upper_limit = q3 + 1.5*iqr\n",
    "lower_limit = q1 - 1.5*iqr\n",
    "\n",
    "# Identify outliers\n",
    "outliers = [x for x in data if x < lower_limit or x > upper_limit]\n",
    "if len(outliers) > 0:\n",
    "    print(\"Outliers:\", outliers)\n",
    "else:\n",
    "    print(\"No outliers found.\")"
   ]
  },
  {
   "cell_type": "markdown",
   "id": "f99c2824",
   "metadata": {},
   "source": [
    "Yes there is one outlier in the data set, which is the value 57"
   ]
  },
  {
   "cell_type": "markdown",
   "id": "2c479b47",
   "metadata": {},
   "source": [
    "Q-8) Draw a boxplot of the dataset to confirm"
   ]
  },
  {
   "cell_type": "code",
   "execution_count": 15,
   "id": "431466fe",
   "metadata": {},
   "outputs": [
    {
     "data": {
      "image/png": "[encoded data removed]",
      "text/plain": [
       "<Figure size 640x480 with 1 Axes>"
      ]
     },
     "metadata": {},
     "output_type": "display_data"
    }
   ],
   "source": [
    "import matplotlib.pyplot as plt\n",
    "import seaborn as sns\n",
    "\n",
    "# Create a boxplot\n",
    "sns.set_style(\"whitegrid\")\n",
    "ax = sns.boxplot(x=data)\n",
    "plt.show()"
   ]
  },
  {
   "cell_type": "markdown",
   "id": "486fad4f",
   "metadata": {},
   "source": [
    "Comment : \n",
    "    1) The boxplot confirms that there is one outlier in the data set, which is the value 57. \n",
    "    2) The boxplot also shows that the distribution of the data is skewed to the right, with \n",
    "       the median closer to the first quartile than the third quartile.\n",
    "    3) This confirms the skewness that we observed earlier using the Pearson coefficient of skewness."
   ]
  },
  {
   "cell_type": "markdown",
   "id": "2222b1ac",
   "metadata": {},
   "source": [
    "Q-9) Find the percentile rank of the datapoint 25"
   ]
  },
  {
   "cell_type": "code",
   "execution_count": 29,
   "id": "d38a1808",
   "metadata": {},
   "outputs": [
    {
     "name": "stdout",
     "output_type": "stream",
     "text": [
      "The percentile rank of 25 is: 21.75\n"
     ]
    }
   ],
   "source": [
    "# Calculate the percentile rank of 25\n",
    "value=25\n",
    "percentile_rank = np.percentile(data,value)\n",
    "\n",
    "print(\"The percentile rank of 25 is:\", percentile_rank)"
   ]
  },
  {
   "cell_type": "code",
   "execution_count": 28,
   "id": "56d18f91",
   "metadata": {},
   "outputs": [
    {
     "name": "stdout",
     "output_type": "stream",
     "text": [
      "The percentile rank of 25 is: 19.8\n"
     ]
    }
   ],
   "source": [
    "# Calculate the percentile rank of 25\n",
    "percentile_rank = np.percentile([x for x in data if x <= 25], (sum(1 for x in data if x <= 25) / len(data)) * 100)\n",
    "\n",
    "print(\"The percentile rank of 25 is:\", percentile_rank)"
   ]
  },
  {
   "cell_type": "markdown",
   "id": "5c05a879",
   "metadata": {},
   "source": [
    "Q-10) What is the probability that a shirt cost is above 25 dollars"
   ]
  },
  {
   "cell_type": "code",
   "execution_count": 10,
   "id": "0282c8c1",
   "metadata": {},
   "outputs": [
    {
     "name": "stdout",
     "output_type": "stream",
     "text": [
      "The probability that a shirt cost is above 25 dollars is: 0.6074919212644473\n"
     ]
    }
   ],
   "source": [
    "import scipy.stats as stats\n",
    "\n",
    "prob = 1 - stats.norm.cdf(25, mean, std_dev)\n",
    "\n",
    "print(\"The probability that a shirt cost is above 25 dollars is:\", prob)"
   ]
  },
  {
   "cell_type": "code",
   "execution_count": 11,
   "id": "5620bff5",
   "metadata": {},
   "outputs": [
    {
     "ename": "TypeError",
     "evalue": "'>' not supported between instances of 'list' and 'int'",
     "output_type": "error",
     "traceback": [
      "\u001b[1;31m---------------------------------------------------------------------------\u001b[0m",
      "\u001b[1;31mTypeError\u001b[0m                                 Traceback (most recent call last)",
      "\u001b[1;32m~\\AppData\\Local\\Temp\\ipykernel_2948\\3020172173.py\u001b[0m in \u001b[0;36m<module>\u001b[1;34m\u001b[0m\n\u001b[0;32m      1\u001b[0m \u001b[1;31m# calculate the probability that a shirt cost is above 25 dollars\u001b[0m\u001b[1;33m\u001b[0m\u001b[1;33m\u001b[0m\u001b[0m\n\u001b[1;32m----> 2\u001b[1;33m \u001b[0mprob\u001b[0m \u001b[1;33m=\u001b[0m \u001b[0mnp\u001b[0m\u001b[1;33m.\u001b[0m\u001b[0msum\u001b[0m\u001b[1;33m(\u001b[0m\u001b[0mdata\u001b[0m \u001b[1;33m>\u001b[0m \u001b[1;36m25\u001b[0m\u001b[1;33m)\u001b[0m \u001b[1;33m/\u001b[0m \u001b[0mlen\u001b[0m\u001b[1;33m(\u001b[0m\u001b[0mdata\u001b[0m\u001b[1;33m)\u001b[0m\u001b[1;33m\u001b[0m\u001b[1;33m\u001b[0m\u001b[0m\n\u001b[0m\u001b[0;32m      3\u001b[0m \u001b[1;33m\u001b[0m\u001b[0m\n\u001b[0;32m      4\u001b[0m \u001b[0mprint\u001b[0m\u001b[1;33m(\u001b[0m\u001b[1;34mf'The probability that a shirt cost is above 25 dollars is {prob:.2f}.'\u001b[0m\u001b[1;33m)\u001b[0m\u001b[1;33m\u001b[0m\u001b[1;33m\u001b[0m\u001b[0m\n",
      "\u001b[1;31mTypeError\u001b[0m: '>' not supported between instances of 'list' and 'int'"
     ]
    }
   ],
   "source": [
    "# calculate the probability that a shirt cost is above 25 dollars\n",
    "prob = np.sum(data > 25) / len(data)\n",
    "\n",
    "print(f'The probability that a shirt cost is above 25 dollars is {prob:.2f}.')\n"
   ]
  },
  {
   "cell_type": "markdown",
   "id": "91974ba7",
   "metadata": {},
   "source": [
    "Q-11) Create a frequency distribution for the data and visualize it appropriatel"
   ]
  },
  {
   "cell_type": "code",
   "execution_count": 1,
   "id": "d3b70baf",
   "metadata": {},
   "outputs": [
    {
     "data": {
      "image/png": "[encoded data removed]",
      "text/plain": [
       "<Figure size 640x480 with 1 Axes>"
      ]
     },
     "metadata": {},
     "output_type": "display_data"
    }
   ],
   "source": [
    "import pandas as pd\n",
    "import matplotlib.pyplot as plt\n",
    "\n",
    "# create a pandas DataFrame with the given data\n",
    "df = pd.DataFrame(data, columns=['Price'])\n",
    "\n",
    "# create a frequency distribution\n",
    "freq_dist = df['Price'].value_counts().sort_index().reset_index()\n",
    "freq_dist.columns = ['Price', 'Frequency']\n",
    "\n",
    "# visualize the frequency distribution\n",
    "plt.bar(freq_dist['Price'], freq_dist['Frequency'])\n",
    "plt.title('Frequency Distribution of Branded Shirts Prices')\n",
    "plt.xlabel('Price')\n",
    "plt.ylabel('Frequency')\n",
    "plt.show()\n"
   ]
  },
  {
   "cell_type": "code",
   "execution_count": 2,
   "id": "c613e575",
   "metadata": {},
   "outputs": [
    {
     "data": {
      "text/html": [
       "<div>\n",
       "<style scoped>\n",
       "    .dataframe tbody tr th:only-of-type {\n",
       "        vertical-align: middle;\n",
       "    }\n",
       "\n",
       "    .dataframe tbody tr th {\n",
       "        vertical-align: top;\n",
       "    }\n",
       "\n",
       "    .dataframe thead th {\n",
       "        text-align: right;\n",
       "    }\n",
       "</style>\n",
       "<table border=\"1\" class=\"dataframe\">\n",
       "  <thead>\n",
       "    <tr style=\"text-align: right;\">\n",
       "      <th></th>\n",
       "      <th>Price</th>\n",
       "      <th>Frequency</th>\n",
       "    </tr>\n",
       "  </thead>\n",
       "  <tbody>\n",
       "    <tr>\n",
       "      <th>0</th>\n",
       "      <td>12</td>\n",
       "      <td>2</td>\n",
       "    </tr>\n",
       "    <tr>\n",
       "      <th>1</th>\n",
       "      <td>14</td>\n",
       "      <td>1</td>\n",
       "    </tr>\n",
       "    <tr>\n",
       "      <th>2</th>\n",
       "      <td>15</td>\n",
       "      <td>2</td>\n",
       "    </tr>\n",
       "    <tr>\n",
       "      <th>3</th>\n",
       "      <td>18</td>\n",
       "      <td>1</td>\n",
       "    </tr>\n",
       "    <tr>\n",
       "      <th>4</th>\n",
       "      <td>19</td>\n",
       "      <td>1</td>\n",
       "    </tr>\n",
       "    <tr>\n",
       "      <th>5</th>\n",
       "      <td>20</td>\n",
       "      <td>2</td>\n",
       "    </tr>\n",
       "    <tr>\n",
       "      <th>6</th>\n",
       "      <td>21</td>\n",
       "      <td>1</td>\n",
       "    </tr>\n",
       "    <tr>\n",
       "      <th>7</th>\n",
       "      <td>22</td>\n",
       "      <td>2</td>\n",
       "    </tr>\n",
       "    <tr>\n",
       "      <th>8</th>\n",
       "      <td>23</td>\n",
       "      <td>2</td>\n",
       "    </tr>\n",
       "    <tr>\n",
       "      <th>9</th>\n",
       "      <td>24</td>\n",
       "      <td>2</td>\n",
       "    </tr>\n",
       "    <tr>\n",
       "      <th>10</th>\n",
       "      <td>25</td>\n",
       "      <td>1</td>\n",
       "    </tr>\n",
       "    <tr>\n",
       "      <th>11</th>\n",
       "      <td>26</td>\n",
       "      <td>3</td>\n",
       "    </tr>\n",
       "    <tr>\n",
       "      <th>12</th>\n",
       "      <td>27</td>\n",
       "      <td>4</td>\n",
       "    </tr>\n",
       "    <tr>\n",
       "      <th>13</th>\n",
       "      <td>29</td>\n",
       "      <td>2</td>\n",
       "    </tr>\n",
       "    <tr>\n",
       "      <th>14</th>\n",
       "      <td>30</td>\n",
       "      <td>1</td>\n",
       "    </tr>\n",
       "    <tr>\n",
       "      <th>15</th>\n",
       "      <td>31</td>\n",
       "      <td>1</td>\n",
       "    </tr>\n",
       "    <tr>\n",
       "      <th>16</th>\n",
       "      <td>33</td>\n",
       "      <td>1</td>\n",
       "    </tr>\n",
       "    <tr>\n",
       "      <th>17</th>\n",
       "      <td>34</td>\n",
       "      <td>1</td>\n",
       "    </tr>\n",
       "    <tr>\n",
       "      <th>18</th>\n",
       "      <td>35</td>\n",
       "      <td>4</td>\n",
       "    </tr>\n",
       "    <tr>\n",
       "      <th>19</th>\n",
       "      <td>38</td>\n",
       "      <td>1</td>\n",
       "    </tr>\n",
       "    <tr>\n",
       "      <th>20</th>\n",
       "      <td>40</td>\n",
       "      <td>1</td>\n",
       "    </tr>\n",
       "    <tr>\n",
       "      <th>21</th>\n",
       "      <td>42</td>\n",
       "      <td>1</td>\n",
       "    </tr>\n",
       "    <tr>\n",
       "      <th>22</th>\n",
       "      <td>43</td>\n",
       "      <td>1</td>\n",
       "    </tr>\n",
       "    <tr>\n",
       "      <th>23</th>\n",
       "      <td>44</td>\n",
       "      <td>1</td>\n",
       "    </tr>\n",
       "    <tr>\n",
       "      <th>24</th>\n",
       "      <td>57</td>\n",
       "      <td>1</td>\n",
       "    </tr>\n",
       "  </tbody>\n",
       "</table>\n",
       "</div>"
      ],
      "text/plain": [
       "    Price  Frequency\n",
       "0      12          2\n",
       "1      14          1\n",
       "2      15          2\n",
       "3      18          1\n",
       "4      19          1\n",
       "5      20          2\n",
       "6      21          1\n",
       "7      22          2\n",
       "8      23          2\n",
       "9      24          2\n",
       "10     25          1\n",
       "11     26          3\n",
       "12     27          4\n",
       "13     29          2\n",
       "14     30          1\n",
       "15     31          1\n",
       "16     33          1\n",
       "17     34          1\n",
       "18     35          4\n",
       "19     38          1\n",
       "20     40          1\n",
       "21     42          1\n",
       "22     43          1\n",
       "23     44          1\n",
       "24     57          1"
      ]
     },
     "execution_count": 2,
     "metadata": {},
     "output_type": "execute_result"
    }
   ],
   "source": [
    "freq_dist"
   ]
  },
  {
   "cell_type": "markdown",
   "id": "3abe2e1f",
   "metadata": {},
   "source": [
    "Q-12) Create a probability distribution of the data and visualize it appropriately. "
   ]
  },
  {
   "cell_type": "code",
   "execution_count": 3,
   "id": "42844f1a",
   "metadata": {},
   "outputs": [
    {
     "data": {
      "image/png": "[encoded data removed]",
      "text/plain": [
       "<Figure size 640x480 with 1 Axes>"
      ]
     },
     "metadata": {},
     "output_type": "display_data"
    }
   ],
   "source": [
    "# calculate the probability distribution\n",
    "prob_dist = df['Price'].value_counts(normalize=True).sort_index().reset_index()\n",
    "prob_dist.columns = ['Price', 'Probability']\n",
    "\n",
    "# visualize the probability distribution\n",
    "plt.bar(prob_dist['Price'], prob_dist['Probability'])\n",
    "plt.title('Probability Distribution of Branded Shirts Prices')\n",
    "plt.xlabel('Price')\n",
    "plt.ylabel('Probability')\n",
    "plt.show()"
   ]
  },
  {
   "cell_type": "code",
   "execution_count": 4,
   "id": "d0ca5949",
   "metadata": {},
   "outputs": [
    {
     "data": {
      "text/html": [
       "<div>\n",
       "<style scoped>\n",
       "    .dataframe tbody tr th:only-of-type {\n",
       "        vertical-align: middle;\n",
       "    }\n",
       "\n",
       "    .dataframe tbody tr th {\n",
       "        vertical-align: top;\n",
       "    }\n",
       "\n",
       "    .dataframe thead th {\n",
       "        text-align: right;\n",
       "    }\n",
       "</style>\n",
       "<table border=\"1\" class=\"dataframe\">\n",
       "  <thead>\n",
       "    <tr style=\"text-align: right;\">\n",
       "      <th></th>\n",
       "      <th>Price</th>\n",
       "      <th>Probability</th>\n",
       "    </tr>\n",
       "  </thead>\n",
       "  <tbody>\n",
       "    <tr>\n",
       "      <th>0</th>\n",
       "      <td>12</td>\n",
       "      <td>0.050</td>\n",
       "    </tr>\n",
       "    <tr>\n",
       "      <th>1</th>\n",
       "      <td>14</td>\n",
       "      <td>0.025</td>\n",
       "    </tr>\n",
       "    <tr>\n",
       "      <th>2</th>\n",
       "      <td>15</td>\n",
       "      <td>0.050</td>\n",
       "    </tr>\n",
       "    <tr>\n",
       "      <th>3</th>\n",
       "      <td>18</td>\n",
       "      <td>0.025</td>\n",
       "    </tr>\n",
       "    <tr>\n",
       "      <th>4</th>\n",
       "      <td>19</td>\n",
       "      <td>0.025</td>\n",
       "    </tr>\n",
       "    <tr>\n",
       "      <th>5</th>\n",
       "      <td>20</td>\n",
       "      <td>0.050</td>\n",
       "    </tr>\n",
       "    <tr>\n",
       "      <th>6</th>\n",
       "      <td>21</td>\n",
       "      <td>0.025</td>\n",
       "    </tr>\n",
       "    <tr>\n",
       "      <th>7</th>\n",
       "      <td>22</td>\n",
       "      <td>0.050</td>\n",
       "    </tr>\n",
       "    <tr>\n",
       "      <th>8</th>\n",
       "      <td>23</td>\n",
       "      <td>0.050</td>\n",
       "    </tr>\n",
       "    <tr>\n",
       "      <th>9</th>\n",
       "      <td>24</td>\n",
       "      <td>0.050</td>\n",
       "    </tr>\n",
       "    <tr>\n",
       "      <th>10</th>\n",
       "      <td>25</td>\n",
       "      <td>0.025</td>\n",
       "    </tr>\n",
       "    <tr>\n",
       "      <th>11</th>\n",
       "      <td>26</td>\n",
       "      <td>0.075</td>\n",
       "    </tr>\n",
       "    <tr>\n",
       "      <th>12</th>\n",
       "      <td>27</td>\n",
       "      <td>0.100</td>\n",
       "    </tr>\n",
       "    <tr>\n",
       "      <th>13</th>\n",
       "      <td>29</td>\n",
       "      <td>0.050</td>\n",
       "    </tr>\n",
       "    <tr>\n",
       "      <th>14</th>\n",
       "      <td>30</td>\n",
       "      <td>0.025</td>\n",
       "    </tr>\n",
       "    <tr>\n",
       "      <th>15</th>\n",
       "      <td>31</td>\n",
       "      <td>0.025</td>\n",
       "    </tr>\n",
       "    <tr>\n",
       "      <th>16</th>\n",
       "      <td>33</td>\n",
       "      <td>0.025</td>\n",
       "    </tr>\n",
       "    <tr>\n",
       "      <th>17</th>\n",
       "      <td>34</td>\n",
       "      <td>0.025</td>\n",
       "    </tr>\n",
       "    <tr>\n",
       "      <th>18</th>\n",
       "      <td>35</td>\n",
       "      <td>0.100</td>\n",
       "    </tr>\n",
       "    <tr>\n",
       "      <th>19</th>\n",
       "      <td>38</td>\n",
       "      <td>0.025</td>\n",
       "    </tr>\n",
       "    <tr>\n",
       "      <th>20</th>\n",
       "      <td>40</td>\n",
       "      <td>0.025</td>\n",
       "    </tr>\n",
       "    <tr>\n",
       "      <th>21</th>\n",
       "      <td>42</td>\n",
       "      <td>0.025</td>\n",
       "    </tr>\n",
       "    <tr>\n",
       "      <th>22</th>\n",
       "      <td>43</td>\n",
       "      <td>0.025</td>\n",
       "    </tr>\n",
       "    <tr>\n",
       "      <th>23</th>\n",
       "      <td>44</td>\n",
       "      <td>0.025</td>\n",
       "    </tr>\n",
       "    <tr>\n",
       "      <th>24</th>\n",
       "      <td>57</td>\n",
       "      <td>0.025</td>\n",
       "    </tr>\n",
       "  </tbody>\n",
       "</table>\n",
       "</div>"
      ],
      "text/plain": [
       "    Price  Probability\n",
       "0      12        0.050\n",
       "1      14        0.025\n",
       "2      15        0.050\n",
       "3      18        0.025\n",
       "4      19        0.025\n",
       "5      20        0.050\n",
       "6      21        0.025\n",
       "7      22        0.050\n",
       "8      23        0.050\n",
       "9      24        0.050\n",
       "10     25        0.025\n",
       "11     26        0.075\n",
       "12     27        0.100\n",
       "13     29        0.050\n",
       "14     30        0.025\n",
       "15     31        0.025\n",
       "16     33        0.025\n",
       "17     34        0.025\n",
       "18     35        0.100\n",
       "19     38        0.025\n",
       "20     40        0.025\n",
       "21     42        0.025\n",
       "22     43        0.025\n",
       "23     44        0.025\n",
       "24     57        0.025"
      ]
     },
     "execution_count": 4,
     "metadata": {},
     "output_type": "execute_result"
    }
   ],
   "source": [
    "prob_dist"
   ]
  },
  {
   "cell_type": "markdown",
   "id": "163dfafc",
   "metadata": {},
   "source": [
    "Q-13) What is the shape of the distribution of this dataset? Create an \n",
    "appropriate graph to determine that. Take 100 random samples with \n",
    "replacement from this dataset of size 5 each. Create a sampling distribution of \n",
    "the mean shirt prices. Compare with other sampling distributions of sample \n",
    "size 10, 15, 20, 25, 30. State your observations. Does it corroborate the \n",
    "Central Limit Theorem?"
   ]
  },
  {
   "cell_type": "code",
   "execution_count": 39,
   "id": "28e798a5",
   "metadata": {},
   "outputs": [
    {
     "data": {
      "image/png": "[encoded data removed]",
      "text/plain": [
       "<Figure size 640x480 with 1 Axes>"
      ]
     },
     "metadata": {},
     "output_type": "display_data"
    }
   ],
   "source": [
    "#To determine the shape of the distribution of the given dataset, we can create a histogram and observe its shape.\n",
    "\n",
    "plt.hist(data)\n",
    "plt.title(\"Histogram of Shirt Prices\")\n",
    "plt.xlabel(\"Price\")\n",
    "plt.ylabel(\"Frequency\")\n",
    "plt.show()"
   ]
  },
  {
   "cell_type": "code",
   "execution_count": 40,
   "id": "fe2006f3",
   "metadata": {},
   "outputs": [
    {
     "data": {
      "image/png": "[encoded data removed]",
      "text/plain": [
       "<Figure size 640x480 with 1 Axes>"
      ]
     },
     "metadata": {},
     "output_type": "display_data"
    }
   ],
   "source": [
    "prob_dist = norm(loc=mean, scale=std_dev)\n",
    "\n",
    "sns.kdeplot(data, shade=True)\n",
    "plt.title(\"Density Plot of Shirt Prices\")\n",
    "plt.xlabel(\"Price\")\n",
    "plt.ylabel(\"Density\")\n",
    "plt.show()"
   ]
  },
  {
   "cell_type": "code",
   "execution_count": 43,
   "id": "8a12937c",
   "metadata": {},
   "outputs": [
    {
     "data": {
      "image/png": "[encoded data removed]",
      "text/plain": [
       "<Figure size 640x480 with 1 Axes>"
      ]
     },
     "metadata": {},
     "output_type": "display_data"
    }
   ],
   "source": [
    "#To create the sampling distributions of the mean shirt prices, we can use the random module in Python.\n",
    "\n",
    "import random\n",
    "\n",
    "sample_sizes = [5, 10, 15, 20, 25, 30]\n",
    "num_samples = 100\n",
    "\n",
    "sampling_dists = {}\n",
    "\n",
    "for sample_size in sample_sizes:\n",
    "    means = []\n",
    "    for i in range(num_samples):\n",
    "        sample = random.sample(data, sample_size)\n",
    "        mean = np.mean(sample)\n",
    "        means.append(mean)\n",
    "    sampling_dists[sample_size] = means\n",
    "\n",
    "#plot the sampling distributions using histograms.\n",
    "\n",
    "for sample_size in sample_sizes:\n",
    "    plt.hist(sampling_dists[sample_size], alpha=0.5, label=\"Sample Size {}\".format(sample_size))\n",
    "plt.title(\"Sampling Distributions of Mean Shirt Prices\")\n",
    "plt.xlabel(\"Mean Price\")\n",
    "plt.ylabel(\"Frequency\")\n",
    "plt.legend()\n",
    "plt.show()\n"
   ]
  },
  {
   "cell_type": "markdown",
   "id": "a02abbe0",
   "metadata": {},
   "source": [
    "Comment :The resulting histograms show that as the sample size increases, the sampling distribution becomes \n",
    "         more and more normal, which corroborates the Central Limit Theorem.\n"
   ]
  },
  {
   "cell_type": "markdown",
   "id": "a1d05b51",
   "metadata": {},
   "source": [
    "Q-14) Treat this dataset as a binomial distribution where p is the probability \n",
    "that a shirt costs above 25 dollars. What is the probability that out of a random \n",
    "sample of 10 shirts 7 are costing more than 25 dollars "
   ]
  },
  {
   "cell_type": "code",
   "execution_count": 13,
   "id": "5ba8590b",
   "metadata": {},
   "outputs": [
    {
     "name": "stdout",
     "output_type": "stream",
     "text": [
      "Probability of success: 0.575\n"
     ]
    }
   ],
   "source": [
    "# Define a success as a shirt costing more than 25 dollars\n",
    "\n",
    "data = np.array([23, 30, 20, 27, 44, 26, 35, 20, 29, 29, 25, 15, 18, 27, 19, 22, 12, 26, 34, 15, 27, 35, 26, 43, 35, 14, 24, 12, 23, 31, 40, 35, 38, 57, 22, 42, 24, 21, 27, 33])\n",
    "\n",
    "success = data > 25\n",
    "\n",
    "# Calculate the probability of success\n",
    "p = np.mean(success)\n",
    "print(\"Probability of success:\", p)"
   ]
  },
  {
   "cell_type": "code",
   "execution_count": 16,
   "id": "efd5e731",
   "metadata": {},
   "outputs": [
    {
     "name": "stdout",
     "output_type": "stream",
     "text": [
      "Probability of getting exactly 7 shirts that cost more than 25 dollars: 0.19\n"
     ]
    }
   ],
   "source": [
    "from scipy.stats import binom\n",
    "# Probability of getting exactly 7 shirts that cost more than 25 dollars\n",
    "n = 10\n",
    "k = 7\n",
    "prob = binom.pmf(k, n, p)\n",
    "print(\"Probability of getting exactly 7 shirts that cost more than 25 dollars:\", round(prob,2))"
   ]
  },
  {
   "cell_type": "markdown",
   "id": "673ca3f3",
   "metadata": {},
   "source": [
    "Q-15 ) NuCloth Claims that 60% of all shirts in their website cost less than 25 \n",
    "dollars . Using the Normal approximation of a Binomial distribution, find the \n",
    "probability that in a random sample of 10 shirts 7 of them will cost less than 25 \n",
    "dollars.\n",
    "[ Note that the normal distribution can be used to approximate a binomial \n",
    "distribution if np>=5 and nq>=5 with the following correction for continuity\n",
    "P(X=z) = P(z-0.5 < X < z+0.5 ) ]"
   ]
  },
  {
   "cell_type": "code",
   "execution_count": 22,
   "id": "02e27e4c",
   "metadata": {},
   "outputs": [
    {
     "name": "stdout",
     "output_type": "stream",
     "text": [
      "Probability of getting exactly 7 shirts that cost less than 25 dollars: 0.32\n"
     ]
    }
   ],
   "source": [
    "import pandas as pd\n",
    "import numpy as np\n",
    "from scipy.stats import norm\n",
    "\n",
    "# Define the parameters of the binomial distribution\n",
    "n = 10\n",
    "p = 0.6\n",
    "q = 1 - p\n",
    "\n",
    "# Calculate the mean and standard deviation of the binomial distribution\n",
    "mu = n * p\n",
    "sigma = np.sqrt(n * p * q)\n",
    "\n",
    "# Calculate the z-score for getting exactly 7 shirts that cost less than 25 dollars\n",
    "z = (7 - mu) / sigma\n",
    "\n",
    "# Calculate the probability using the normal distribution with continuity correction\n",
    "prob = norm.cdf(z + 0.5) - norm.cdf(z - 0.5)\n",
    "\n",
    "# Display the result\n",
    "print(\"Probability of getting exactly 7 shirts that cost less than 25 dollars:\",round(prob,2))\n"
   ]
  },
  {
   "cell_type": "markdown",
   "id": "033cb406",
   "metadata": {},
   "source": [
    "Q-16)  Compute a 95% Confidence Interval for the true price of a shirt in the \n",
    "NuCloth website using appropriate distribution.( State reasons as to why did \n",
    "you use a z or t distribution)"
   ]
  },
  {
   "cell_type": "code",
   "execution_count": 24,
   "id": "24a1e265",
   "metadata": {},
   "outputs": [
    {
     "name": "stdout",
     "output_type": "stream",
     "text": [
      "95% Confidence Interval for the true price of a shirt: (24.642900805126224, 30.607099194873776)\n"
     ]
    }
   ],
   "source": [
    "import numpy as np\n",
    "from scipy.stats import norm\n",
    "\n",
    "# Define the sample data\n",
    "data = np.array([23, 30, 20, 27, 44, 26, 35, 20, 29, 29, \n",
    "                 25, 15, 18, 27, 19, 22, 12, 26, 34, 15,\n",
    "                 27, 35, 26, 43, 35, 14, 24, 12, 23, 31,\n",
    "                 40, 35, 38, 57, 22, 42, 24, 21, 27, 33])\n",
    "\n",
    "# Calculate the sample statistics\n",
    "n = len(data)\n",
    "sample_mean = np.mean(data)\n",
    "sample_std = np.std(data, ddof=1)\n",
    "\n",
    "# Define the confidence level and calculate the critical value\n",
    "alpha = 0.05\n",
    "z_critical = norm.ppf(1 - alpha/2)\n",
    "\n",
    "# Calculate the margin of error\n",
    "margin_error = z_critical * (sample_std / np.sqrt(n))\n",
    "\n",
    "# Calculate the confidence interval\n",
    "confidence_interval = (sample_mean - margin_error, sample_mean + margin_error)\n",
    "\n",
    "# Display the result\n",
    "print(\"95% Confidence Interval for the true price of a shirt:\", confidence_interval)\n"
   ]
  }
 ],
 "metadata": {
  "kernelspec": {
   "display_name": "Python 3 (ipykernel)",
   "language": "python",
   "name": "python3"
  },
  "language_info": {
   "codemirror_mode": {
    "name": "ipython",
    "version": 3
   },
   "file_extension": ".py",
   "mimetype": "text/x-python",
   "name": "python",
   "nbconvert_exporter": "python",
   "pygments_lexer": "ipython3",
   "version": "3.9.13"
  }
 },
 "nbformat": 4,
 "nbformat_minor": 5
}
